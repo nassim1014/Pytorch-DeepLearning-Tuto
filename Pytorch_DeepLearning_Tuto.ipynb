{
  "nbformat": 4,
  "nbformat_minor": 0,
  "metadata": {
    "colab": {
      "provenance": [],
      "toc_visible": true,
      "authorship_tag": "ABX9TyPJSrLv+U6yQtTqsHGQZFyb",
      "include_colab_link": true
    },
    "kernelspec": {
      "name": "python3",
      "display_name": "Python 3"
    },
    "language_info": {
      "name": "python"
    }
  },
  "cells": [
    {
      "cell_type": "markdown",
      "metadata": {
        "id": "view-in-github",
        "colab_type": "text"
      },
      "source": [
        "<a href=\"https://colab.research.google.com/github/nassim1014/Pytorch-DeepLearning-Tuto/blob/main/Pytorch_DeepLearning_Tuto.ipynb\" target=\"_parent\"><img src=\"https://colab.research.google.com/assets/colab-badge.svg\" alt=\"Open In Colab\"/></a>"
      ]
    },
    {
      "cell_type": "code",
      "source": [
        "import torch"
      ],
      "metadata": {
        "id": "yKVTsFNkgsBQ"
      },
      "execution_count": null,
      "outputs": []
    },
    {
      "cell_type": "markdown",
      "source": [
        "Simple CNN model"
      ],
      "metadata": {
        "id": "DKdI6vfKi92Q"
      }
    },
    {
      "cell_type": "code",
      "source": [
        "''' import torch\n",
        "import torch.nn as nn\n",
        "import torch.optim as optim\n",
        "import torchvision\n",
        "import torchvision.transforms as transforms\n",
        "\n",
        "# Define the CNN architecture\n",
        "class SimpleCNN(nn.Module):\n",
        "    def __init__(self):\n",
        "        super(SimpleCNN, self).__init__()\n",
        "        self.conv1 = nn.Conv2d(3, 16, kernel_size=3, stride=1, padding=1)\n",
        "        self.relu = nn.ReLU()\n",
        "        self.maxpool = nn.MaxPool2d(kernel_size=2, stride=2)\n",
        "        self.conv2 = nn.Conv2d(16, 32, kernel_size=3, stride=1, padding=1)\n",
        "        self.fc1 = nn.Linear(32 * 8 * 8, 256)  # Adjust based on the actual spatial dimensions\n",
        "\n",
        "        self.fc2 = nn.Linear(256, 10)  # 10 output classes for example, change as needed\n",
        "\n",
        "    def forward(self, x):\n",
        "        x = self.conv1(x)\n",
        "        x = self.relu(x)\n",
        "        x = self.maxpool(x)\n",
        "        x = self.conv2(x)\n",
        "        x = self.relu(x)\n",
        "        x = self.maxpool(x)\n",
        "\n",
        "        # Print the size before fc1\n",
        "        print(x.size())\n",
        "\n",
        "        x = x.view(x.size(0), -1)\n",
        "        print(x.size())  # Print the size before fc1\n",
        "\n",
        "        x = self.fc1(x)\n",
        "        x = self.relu(x)\n",
        "        x = self.fc2(x)\n",
        "        return x\n",
        "\n",
        "\n",
        "\n",
        "# Download and prepare the CIFAR-10 dataset\n",
        "transform = transforms.Compose([\n",
        "    transforms.ToTensor(),\n",
        "    transforms.Normalize((0.5, 0.5, 0.5), (0.5, 0.5, 0.5))\n",
        "])\n",
        "\n",
        "trainset = torchvision.datasets.CIFAR10(root='./data', train=True, download=True, transform=transform)\n",
        "trainloader = torch.utils.data.DataLoader(trainset, batch_size=4, shuffle=True, num_workers=2)\n",
        "\n",
        "# Initialize the CNN model\n",
        "net = SimpleCNN()\n",
        "\n",
        "# Define loss function and optimizer\n",
        "criterion = nn.CrossEntropyLoss()\n",
        "optimizer = optim.SGD(net.parameters(), lr=0.001, momentum=0.9)\n",
        "\n",
        "# Training the CNN\n",
        "for epoch in range(5):  # loop over the dataset multiple times\n",
        "    running_loss = 0.0\n",
        "    for i, data in enumerate(trainloader, 0):\n",
        "        inputs, labels = data\n",
        "\n",
        "        optimizer.zero_grad()\n",
        "\n",
        "        outputs = net(inputs)\n",
        "        loss = criterion(outputs, labels)\n",
        "        loss.backward()\n",
        "        optimizer.step()\n",
        "\n",
        "        running_loss += loss.item()\n",
        "        if i % 2000 == 1999:  # print every 2000 mini-batches\n",
        "            print('[%d, %5d] loss: %.3f' %\n",
        "                  (epoch + 1, i + 1, running_loss / 2000))\n",
        "            running_loss = 0.0\n",
        "\n",
        "print('Finished Training')\n",
        " '''"
      ],
      "metadata": {
        "id": "0EatXEqni7c4",
        "colab": {
          "base_uri": "https://localhost:8080/",
          "height": 244
        },
        "outputId": "6f92d8de-70f1-4dc3-f3fb-9eeafaf967f9"
      },
      "execution_count": null,
      "outputs": [
        {
          "output_type": "execute_result",
          "data": {
            "text/plain": [
              "\" import torch\\nimport torch.nn as nn\\nimport torch.optim as optim\\nimport torchvision\\nimport torchvision.transforms as transforms\\n\\n# Define the CNN architecture\\nclass SimpleCNN(nn.Module):\\n    def __init__(self):\\n        super(SimpleCNN, self).__init__()\\n        self.conv1 = nn.Conv2d(3, 16, kernel_size=3, stride=1, padding=1)\\n        self.relu = nn.ReLU()\\n        self.maxpool = nn.MaxPool2d(kernel_size=2, stride=2)\\n        self.conv2 = nn.Conv2d(16, 32, kernel_size=3, stride=1, padding=1)\\n        self.fc1 = nn.Linear(32 * 8 * 8, 256)  # Adjust based on the actual spatial dimensions\\n\\n        self.fc2 = nn.Linear(256, 10)  # 10 output classes for example, change as needed\\n\\n    def forward(self, x):\\n        x = self.conv1(x)\\n        x = self.relu(x)\\n        x = self.maxpool(x)\\n        x = self.conv2(x)\\n        x = self.relu(x)\\n        x = self.maxpool(x)\\n\\n        # Print the size before fc1\\n        print(x.size())\\n\\n        x = x.view(x.size(0), -1)\\n        print(x.size())  # Print the size before fc1\\n\\n        x = self.fc1(x)\\n        x = self.relu(x)\\n        x = self.fc2(x)\\n        return x\\n\\n\\n\\n# Download and prepare the CIFAR-10 dataset\\ntransform = transforms.Compose([\\n    transforms.ToTensor(),\\n    transforms.Normalize((0.5, 0.5, 0.5), (0.5, 0.5, 0.5))\\n])\\n\\ntrainset = torchvision.datasets.CIFAR10(root='./data', train=True, download=True, transform=transform)\\ntrainloader = torch.utils.data.DataLoader(trainset, batch_size=4, shuffle=True, num_workers=2)\\n\\n# Initialize the CNN model\\nnet = SimpleCNN()\\n\\n# Define loss function and optimizer\\ncriterion = nn.CrossEntropyLoss()\\noptimizer = optim.SGD(net.parameters(), lr=0.001, momentum=0.9)\\n\\n# Training the CNN\\nfor epoch in range(5):  # loop over the dataset multiple times\\n    running_loss = 0.0\\n    for i, data in enumerate(trainloader, 0):\\n        inputs, labels = data\\n\\n        optimizer.zero_grad()\\n\\n        outputs = net(inputs)\\n        loss = criterion(outputs, labels)\\n        loss.backward()\\n        optimizer.step()\\n\\n        running_loss += loss.item()\\n        if i % 2000 == 1999:  # print every 2000 mini-batches\\n            print('[%d, %5d] loss: %.3f' %\\n                  (epoch + 1, i + 1, running_loss / 2000))\\n            running_loss = 0.0\\n\\nprint('Finished Training')\\n \""
            ],
            "application/vnd.google.colaboratory.intrinsic+json": {
              "type": "string"
            }
          },
          "metadata": {},
          "execution_count": 2
        }
      ]
    },
    {
      "cell_type": "markdown",
      "source": [
        "what is a tensor : it s just like a list or a numpy array , when u do ML , u can use numpy array , when u use deep learning u use tensors . the diff is that they work better on GPU's (vs Regular CPU's)"
      ],
      "metadata": {
        "id": "Us3-ShrwnsCe"
      }
    },
    {
      "cell_type": "code",
      "source": [
        "import numpy as np"
      ],
      "metadata": {
        "id": "0fE0-uQpoNpU"
      },
      "execution_count": null,
      "outputs": []
    },
    {
      "cell_type": "markdown",
      "source": [
        "**Python Lists**"
      ],
      "metadata": {
        "id": "7I2sar8qoSBq"
      }
    },
    {
      "cell_type": "code",
      "source": [
        "my_list = [[1,2,3,4],[7,8,5,1],[2,3,4,5]]\n",
        "my_list"
      ],
      "metadata": {
        "colab": {
          "base_uri": "https://localhost:8080/"
        },
        "id": "K_ZJZ4Z7oVoy",
        "outputId": "36b6f0cf-fd52-4263-80f4-b99defd0c954"
      },
      "execution_count": null,
      "outputs": [
        {
          "output_type": "execute_result",
          "data": {
            "text/plain": [
              "[[1, 2, 3, 4], [7, 8, 5, 1], [2, 3, 4, 5]]"
            ]
          },
          "metadata": {},
          "execution_count": 4
        }
      ]
    },
    {
      "cell_type": "markdown",
      "source": [
        "**Numpy Array**"
      ],
      "metadata": {
        "id": "uBg60ulbogap"
      }
    },
    {
      "cell_type": "code",
      "source": [
        "np1 = np.random.rand(3,4)\n",
        "np1"
      ],
      "metadata": {
        "colab": {
          "base_uri": "https://localhost:8080/"
        },
        "id": "ClMlE83bonmN",
        "outputId": "96388538-eac2-408f-f517-a87edc0893e2"
      },
      "execution_count": null,
      "outputs": [
        {
          "output_type": "execute_result",
          "data": {
            "text/plain": [
              "array([[0.89707354, 0.91073968, 0.6323467 , 0.88190936],\n",
              "       [0.36000356, 0.59439951, 0.64443502, 0.77695361],\n",
              "       [0.25249834, 0.46749829, 0.03759122, 0.28283357]])"
            ]
          },
          "metadata": {},
          "execution_count": 5
        }
      ]
    },
    {
      "cell_type": "markdown",
      "source": [
        "**TENSORS**"
      ],
      "metadata": {
        "id": "6ZDZ_nlQo79p"
      }
    },
    {
      "cell_type": "code",
      "source": [
        "tensor_2d= torch.randn(3,4)\n",
        "tensor_2d"
      ],
      "metadata": {
        "colab": {
          "base_uri": "https://localhost:8080/"
        },
        "id": "xUXsbRy_o-bE",
        "outputId": "a890ef25-e9c0-41b8-ed94-4f476d0c2b5d"
      },
      "execution_count": null,
      "outputs": [
        {
          "output_type": "execute_result",
          "data": {
            "text/plain": [
              "tensor([[-0.7391,  0.3914, -0.7005,  1.3507],\n",
              "        [-1.1057, -0.7238,  2.0282,  1.0920],\n",
              "        [-0.7122, -2.0843,  1.6207,  0.1632]])"
            ]
          },
          "metadata": {},
          "execution_count": 6
        }
      ]
    },
    {
      "cell_type": "markdown",
      "source": [
        "create tensor out of numpy array"
      ],
      "metadata": {
        "id": "i4ke5l_-pUiN"
      }
    },
    {
      "cell_type": "code",
      "source": [
        "torch.tensor(np1)"
      ],
      "metadata": {
        "colab": {
          "base_uri": "https://localhost:8080/"
        },
        "id": "YGGmiCg3pXir",
        "outputId": "39597d80-7bca-44f1-f9f2-66fa9d0b62d9"
      },
      "execution_count": null,
      "outputs": [
        {
          "output_type": "execute_result",
          "data": {
            "text/plain": [
              "tensor([[0.8971, 0.9107, 0.6323, 0.8819],\n",
              "        [0.3600, 0.5944, 0.6444, 0.7770],\n",
              "        [0.2525, 0.4675, 0.0376, 0.2828]], dtype=torch.float64)"
            ]
          },
          "metadata": {},
          "execution_count": 7
        }
      ]
    },
    {
      "cell_type": "code",
      "source": [
        "torch.zeros(3,4,2)"
      ],
      "metadata": {
        "colab": {
          "base_uri": "https://localhost:8080/"
        },
        "id": "g37ptc49pmZm",
        "outputId": "7a19581f-f663-4466-c078-1fd567ca5504"
      },
      "execution_count": null,
      "outputs": [
        {
          "output_type": "execute_result",
          "data": {
            "text/plain": [
              "tensor([[[0., 0.],\n",
              "         [0., 0.],\n",
              "         [0., 0.],\n",
              "         [0., 0.]],\n",
              "\n",
              "        [[0., 0.],\n",
              "         [0., 0.],\n",
              "         [0., 0.],\n",
              "         [0., 0.]],\n",
              "\n",
              "        [[0., 0.],\n",
              "         [0., 0.],\n",
              "         [0., 0.],\n",
              "         [0., 0.]]])"
            ]
          },
          "metadata": {},
          "execution_count": 8
        }
      ]
    },
    {
      "cell_type": "markdown",
      "source": [
        "**Create Basic Neural Net with Pytorch**"
      ],
      "metadata": {
        "id": "JmlyeBpipz8a"
      }
    },
    {
      "cell_type": "code",
      "source": [
        "# Using the Iris Data set containing Irs Flowers - The goal classify the flowers\n",
        "# this model will just take an input move it to the hidden layers and to the output and that s it no complicated stuff\n",
        "import torch.nn as nn\n",
        "import torch.nn.functional as F\n"
      ],
      "metadata": {
        "id": "GoJxf9kAp43K"
      },
      "execution_count": null,
      "outputs": []
    },
    {
      "cell_type": "code",
      "source": [
        "#Create a Model Class that inherits nn.Module. NB : u can use functionnal programming to get things done quickely but here we re using Object oriented Programming\n",
        "\n",
        "class Model(nn.Module):\n",
        "    # input Layer (4 features of the flower)\n",
        "    #   --> Hidden layer1 (number of neuronnes)\n",
        "    #        --> Hideen Layer2\n",
        "    #               --> output (3 classes of iris flower)\n",
        "    def __init__(self, in_features =4 ,h1 = 8, h2 =9 ,out_feature=3) :\n",
        "        super().__init__()\n",
        "        # we have 4 features describing the flowers\n",
        "        # we want first hidden layer with 8 neuronnes and a second hidden layer with 9\n",
        "        # out_feature = 3 bc we have 3 classes\n",
        "        self.fc1 = nn.Linear(in_features, h1) # from input layer to h1\n",
        "        # fc := fully connected\n",
        "        self.fc2 = nn.Linear(h1, h2)  # from h1 to h2\n",
        "        self.out = nn.Linear(h2, out_feature) # from h2 to output\n",
        "    #create a funciton that moves things forward from layer to another\n",
        "    def forward(self , x):\n",
        "        x=F.relu(self.fc1(x))\n",
        "        x=F.relu(self.fc2(x))\n",
        "        x= self.out(x)\n",
        "\n",
        "        return x\n",
        "\n",
        "\n"
      ],
      "metadata": {
        "id": "Z6whcNoJqm3r"
      },
      "execution_count": null,
      "outputs": []
    },
    {
      "cell_type": "code",
      "source": [
        "torch.manual_seed(41)\n",
        "# Create an instance of our model\n",
        "model = Model()"
      ],
      "metadata": {
        "id": "tA8azkX4t6oH"
      },
      "execution_count": null,
      "outputs": []
    },
    {
      "cell_type": "code",
      "source": [
        "import pandas as pd\n",
        "import matplotlib.pyplot as plt\n",
        "%matplotlib inline"
      ],
      "metadata": {
        "id": "GpiQSux9umeE"
      },
      "execution_count": null,
      "outputs": []
    },
    {
      "cell_type": "code",
      "source": [
        "url =\"https://gist.githubusercontent.com/curran/a08a1080b88344b0c8a7/raw/0e7a9b0a5d22642a06d3d5b9bcbad9890c8ee534/iris.csv\"\n",
        "my_df = pd.read_csv(url)"
      ],
      "metadata": {
        "id": "tbz9ULiylzAq"
      },
      "execution_count": null,
      "outputs": []
    },
    {
      "cell_type": "code",
      "source": [
        "my_df"
      ],
      "metadata": {
        "colab": {
          "base_uri": "https://localhost:8080/",
          "height": 423
        },
        "id": "hjFMhxj_mQDc",
        "outputId": "523032d0-321a-4ec1-9d43-7a4d463ca576"
      },
      "execution_count": null,
      "outputs": [
        {
          "output_type": "execute_result",
          "data": {
            "text/plain": [
              "     sepal_length  sepal_width  petal_length  petal_width    species\n",
              "0             5.1          3.5           1.4          0.2     setosa\n",
              "1             4.9          3.0           1.4          0.2     setosa\n",
              "2             4.7          3.2           1.3          0.2     setosa\n",
              "3             4.6          3.1           1.5          0.2     setosa\n",
              "4             5.0          3.6           1.4          0.2     setosa\n",
              "..            ...          ...           ...          ...        ...\n",
              "145           6.7          3.0           5.2          2.3  virginica\n",
              "146           6.3          2.5           5.0          1.9  virginica\n",
              "147           6.5          3.0           5.2          2.0  virginica\n",
              "148           6.2          3.4           5.4          2.3  virginica\n",
              "149           5.9          3.0           5.1          1.8  virginica\n",
              "\n",
              "[150 rows x 5 columns]"
            ],
            "text/html": [
              "\n",
              "  <div id=\"df-4fa4f0b6-464e-4170-bb1b-f74a2a154106\" class=\"colab-df-container\">\n",
              "    <div>\n",
              "<style scoped>\n",
              "    .dataframe tbody tr th:only-of-type {\n",
              "        vertical-align: middle;\n",
              "    }\n",
              "\n",
              "    .dataframe tbody tr th {\n",
              "        vertical-align: top;\n",
              "    }\n",
              "\n",
              "    .dataframe thead th {\n",
              "        text-align: right;\n",
              "    }\n",
              "</style>\n",
              "<table border=\"1\" class=\"dataframe\">\n",
              "  <thead>\n",
              "    <tr style=\"text-align: right;\">\n",
              "      <th></th>\n",
              "      <th>sepal_length</th>\n",
              "      <th>sepal_width</th>\n",
              "      <th>petal_length</th>\n",
              "      <th>petal_width</th>\n",
              "      <th>species</th>\n",
              "    </tr>\n",
              "  </thead>\n",
              "  <tbody>\n",
              "    <tr>\n",
              "      <th>0</th>\n",
              "      <td>5.1</td>\n",
              "      <td>3.5</td>\n",
              "      <td>1.4</td>\n",
              "      <td>0.2</td>\n",
              "      <td>setosa</td>\n",
              "    </tr>\n",
              "    <tr>\n",
              "      <th>1</th>\n",
              "      <td>4.9</td>\n",
              "      <td>3.0</td>\n",
              "      <td>1.4</td>\n",
              "      <td>0.2</td>\n",
              "      <td>setosa</td>\n",
              "    </tr>\n",
              "    <tr>\n",
              "      <th>2</th>\n",
              "      <td>4.7</td>\n",
              "      <td>3.2</td>\n",
              "      <td>1.3</td>\n",
              "      <td>0.2</td>\n",
              "      <td>setosa</td>\n",
              "    </tr>\n",
              "    <tr>\n",
              "      <th>3</th>\n",
              "      <td>4.6</td>\n",
              "      <td>3.1</td>\n",
              "      <td>1.5</td>\n",
              "      <td>0.2</td>\n",
              "      <td>setosa</td>\n",
              "    </tr>\n",
              "    <tr>\n",
              "      <th>4</th>\n",
              "      <td>5.0</td>\n",
              "      <td>3.6</td>\n",
              "      <td>1.4</td>\n",
              "      <td>0.2</td>\n",
              "      <td>setosa</td>\n",
              "    </tr>\n",
              "    <tr>\n",
              "      <th>...</th>\n",
              "      <td>...</td>\n",
              "      <td>...</td>\n",
              "      <td>...</td>\n",
              "      <td>...</td>\n",
              "      <td>...</td>\n",
              "    </tr>\n",
              "    <tr>\n",
              "      <th>145</th>\n",
              "      <td>6.7</td>\n",
              "      <td>3.0</td>\n",
              "      <td>5.2</td>\n",
              "      <td>2.3</td>\n",
              "      <td>virginica</td>\n",
              "    </tr>\n",
              "    <tr>\n",
              "      <th>146</th>\n",
              "      <td>6.3</td>\n",
              "      <td>2.5</td>\n",
              "      <td>5.0</td>\n",
              "      <td>1.9</td>\n",
              "      <td>virginica</td>\n",
              "    </tr>\n",
              "    <tr>\n",
              "      <th>147</th>\n",
              "      <td>6.5</td>\n",
              "      <td>3.0</td>\n",
              "      <td>5.2</td>\n",
              "      <td>2.0</td>\n",
              "      <td>virginica</td>\n",
              "    </tr>\n",
              "    <tr>\n",
              "      <th>148</th>\n",
              "      <td>6.2</td>\n",
              "      <td>3.4</td>\n",
              "      <td>5.4</td>\n",
              "      <td>2.3</td>\n",
              "      <td>virginica</td>\n",
              "    </tr>\n",
              "    <tr>\n",
              "      <th>149</th>\n",
              "      <td>5.9</td>\n",
              "      <td>3.0</td>\n",
              "      <td>5.1</td>\n",
              "      <td>1.8</td>\n",
              "      <td>virginica</td>\n",
              "    </tr>\n",
              "  </tbody>\n",
              "</table>\n",
              "<p>150 rows × 5 columns</p>\n",
              "</div>\n",
              "    <div class=\"colab-df-buttons\">\n",
              "\n",
              "  <div class=\"colab-df-container\">\n",
              "    <button class=\"colab-df-convert\" onclick=\"convertToInteractive('df-4fa4f0b6-464e-4170-bb1b-f74a2a154106')\"\n",
              "            title=\"Convert this dataframe to an interactive table.\"\n",
              "            style=\"display:none;\">\n",
              "\n",
              "  <svg xmlns=\"http://www.w3.org/2000/svg\" height=\"24px\" viewBox=\"0 -960 960 960\">\n",
              "    <path d=\"M120-120v-720h720v720H120Zm60-500h600v-160H180v160Zm220 220h160v-160H400v160Zm0 220h160v-160H400v160ZM180-400h160v-160H180v160Zm440 0h160v-160H620v160ZM180-180h160v-160H180v160Zm440 0h160v-160H620v160Z\"/>\n",
              "  </svg>\n",
              "    </button>\n",
              "\n",
              "  <style>\n",
              "    .colab-df-container {\n",
              "      display:flex;\n",
              "      gap: 12px;\n",
              "    }\n",
              "\n",
              "    .colab-df-convert {\n",
              "      background-color: #E8F0FE;\n",
              "      border: none;\n",
              "      border-radius: 50%;\n",
              "      cursor: pointer;\n",
              "      display: none;\n",
              "      fill: #1967D2;\n",
              "      height: 32px;\n",
              "      padding: 0 0 0 0;\n",
              "      width: 32px;\n",
              "    }\n",
              "\n",
              "    .colab-df-convert:hover {\n",
              "      background-color: #E2EBFA;\n",
              "      box-shadow: 0px 1px 2px rgba(60, 64, 67, 0.3), 0px 1px 3px 1px rgba(60, 64, 67, 0.15);\n",
              "      fill: #174EA6;\n",
              "    }\n",
              "\n",
              "    .colab-df-buttons div {\n",
              "      margin-bottom: 4px;\n",
              "    }\n",
              "\n",
              "    [theme=dark] .colab-df-convert {\n",
              "      background-color: #3B4455;\n",
              "      fill: #D2E3FC;\n",
              "    }\n",
              "\n",
              "    [theme=dark] .colab-df-convert:hover {\n",
              "      background-color: #434B5C;\n",
              "      box-shadow: 0px 1px 3px 1px rgba(0, 0, 0, 0.15);\n",
              "      filter: drop-shadow(0px 1px 2px rgba(0, 0, 0, 0.3));\n",
              "      fill: #FFFFFF;\n",
              "    }\n",
              "  </style>\n",
              "\n",
              "    <script>\n",
              "      const buttonEl =\n",
              "        document.querySelector('#df-4fa4f0b6-464e-4170-bb1b-f74a2a154106 button.colab-df-convert');\n",
              "      buttonEl.style.display =\n",
              "        google.colab.kernel.accessAllowed ? 'block' : 'none';\n",
              "\n",
              "      async function convertToInteractive(key) {\n",
              "        const element = document.querySelector('#df-4fa4f0b6-464e-4170-bb1b-f74a2a154106');\n",
              "        const dataTable =\n",
              "          await google.colab.kernel.invokeFunction('convertToInteractive',\n",
              "                                                    [key], {});\n",
              "        if (!dataTable) return;\n",
              "\n",
              "        const docLinkHtml = 'Like what you see? Visit the ' +\n",
              "          '<a target=\"_blank\" href=https://colab.research.google.com/notebooks/data_table.ipynb>data table notebook</a>'\n",
              "          + ' to learn more about interactive tables.';\n",
              "        element.innerHTML = '';\n",
              "        dataTable['output_type'] = 'display_data';\n",
              "        await google.colab.output.renderOutput(dataTable, element);\n",
              "        const docLink = document.createElement('div');\n",
              "        docLink.innerHTML = docLinkHtml;\n",
              "        element.appendChild(docLink);\n",
              "      }\n",
              "    </script>\n",
              "  </div>\n",
              "\n",
              "\n",
              "<div id=\"df-7ae36f27-0c12-4701-a6a7-7995932054b9\">\n",
              "  <button class=\"colab-df-quickchart\" onclick=\"quickchart('df-7ae36f27-0c12-4701-a6a7-7995932054b9')\"\n",
              "            title=\"Suggest charts\"\n",
              "            style=\"display:none;\">\n",
              "\n",
              "<svg xmlns=\"http://www.w3.org/2000/svg\" height=\"24px\"viewBox=\"0 0 24 24\"\n",
              "     width=\"24px\">\n",
              "    <g>\n",
              "        <path d=\"M19 3H5c-1.1 0-2 .9-2 2v14c0 1.1.9 2 2 2h14c1.1 0 2-.9 2-2V5c0-1.1-.9-2-2-2zM9 17H7v-7h2v7zm4 0h-2V7h2v10zm4 0h-2v-4h2v4z\"/>\n",
              "    </g>\n",
              "</svg>\n",
              "  </button>\n",
              "\n",
              "<style>\n",
              "  .colab-df-quickchart {\n",
              "      --bg-color: #E8F0FE;\n",
              "      --fill-color: #1967D2;\n",
              "      --hover-bg-color: #E2EBFA;\n",
              "      --hover-fill-color: #174EA6;\n",
              "      --disabled-fill-color: #AAA;\n",
              "      --disabled-bg-color: #DDD;\n",
              "  }\n",
              "\n",
              "  [theme=dark] .colab-df-quickchart {\n",
              "      --bg-color: #3B4455;\n",
              "      --fill-color: #D2E3FC;\n",
              "      --hover-bg-color: #434B5C;\n",
              "      --hover-fill-color: #FFFFFF;\n",
              "      --disabled-bg-color: #3B4455;\n",
              "      --disabled-fill-color: #666;\n",
              "  }\n",
              "\n",
              "  .colab-df-quickchart {\n",
              "    background-color: var(--bg-color);\n",
              "    border: none;\n",
              "    border-radius: 50%;\n",
              "    cursor: pointer;\n",
              "    display: none;\n",
              "    fill: var(--fill-color);\n",
              "    height: 32px;\n",
              "    padding: 0;\n",
              "    width: 32px;\n",
              "  }\n",
              "\n",
              "  .colab-df-quickchart:hover {\n",
              "    background-color: var(--hover-bg-color);\n",
              "    box-shadow: 0 1px 2px rgba(60, 64, 67, 0.3), 0 1px 3px 1px rgba(60, 64, 67, 0.15);\n",
              "    fill: var(--button-hover-fill-color);\n",
              "  }\n",
              "\n",
              "  .colab-df-quickchart-complete:disabled,\n",
              "  .colab-df-quickchart-complete:disabled:hover {\n",
              "    background-color: var(--disabled-bg-color);\n",
              "    fill: var(--disabled-fill-color);\n",
              "    box-shadow: none;\n",
              "  }\n",
              "\n",
              "  .colab-df-spinner {\n",
              "    border: 2px solid var(--fill-color);\n",
              "    border-color: transparent;\n",
              "    border-bottom-color: var(--fill-color);\n",
              "    animation:\n",
              "      spin 1s steps(1) infinite;\n",
              "  }\n",
              "\n",
              "  @keyframes spin {\n",
              "    0% {\n",
              "      border-color: transparent;\n",
              "      border-bottom-color: var(--fill-color);\n",
              "      border-left-color: var(--fill-color);\n",
              "    }\n",
              "    20% {\n",
              "      border-color: transparent;\n",
              "      border-left-color: var(--fill-color);\n",
              "      border-top-color: var(--fill-color);\n",
              "    }\n",
              "    30% {\n",
              "      border-color: transparent;\n",
              "      border-left-color: var(--fill-color);\n",
              "      border-top-color: var(--fill-color);\n",
              "      border-right-color: var(--fill-color);\n",
              "    }\n",
              "    40% {\n",
              "      border-color: transparent;\n",
              "      border-right-color: var(--fill-color);\n",
              "      border-top-color: var(--fill-color);\n",
              "    }\n",
              "    60% {\n",
              "      border-color: transparent;\n",
              "      border-right-color: var(--fill-color);\n",
              "    }\n",
              "    80% {\n",
              "      border-color: transparent;\n",
              "      border-right-color: var(--fill-color);\n",
              "      border-bottom-color: var(--fill-color);\n",
              "    }\n",
              "    90% {\n",
              "      border-color: transparent;\n",
              "      border-bottom-color: var(--fill-color);\n",
              "    }\n",
              "  }\n",
              "</style>\n",
              "\n",
              "  <script>\n",
              "    async function quickchart(key) {\n",
              "      const quickchartButtonEl =\n",
              "        document.querySelector('#' + key + ' button');\n",
              "      quickchartButtonEl.disabled = true;  // To prevent multiple clicks.\n",
              "      quickchartButtonEl.classList.add('colab-df-spinner');\n",
              "      try {\n",
              "        const charts = await google.colab.kernel.invokeFunction(\n",
              "            'suggestCharts', [key], {});\n",
              "      } catch (error) {\n",
              "        console.error('Error during call to suggestCharts:', error);\n",
              "      }\n",
              "      quickchartButtonEl.classList.remove('colab-df-spinner');\n",
              "      quickchartButtonEl.classList.add('colab-df-quickchart-complete');\n",
              "    }\n",
              "    (() => {\n",
              "      let quickchartButtonEl =\n",
              "        document.querySelector('#df-7ae36f27-0c12-4701-a6a7-7995932054b9 button');\n",
              "      quickchartButtonEl.style.display =\n",
              "        google.colab.kernel.accessAllowed ? 'block' : 'none';\n",
              "    })();\n",
              "  </script>\n",
              "</div>\n",
              "    </div>\n",
              "  </div>\n"
            ]
          },
          "metadata": {},
          "execution_count": 14
        }
      ]
    },
    {
      "cell_type": "code",
      "source": [
        "my_df['species'] = my_df['species'].replace('setosa',0.0)\n",
        "my_df['species'] = my_df['species'].replace('versicolor',1.0)\n",
        "my_df['species'] = my_df['species'].replace('virginica',2.0)"
      ],
      "metadata": {
        "id": "DrEiy15KmWWm"
      },
      "execution_count": null,
      "outputs": []
    },
    {
      "cell_type": "code",
      "source": [
        "my_df"
      ],
      "metadata": {
        "colab": {
          "base_uri": "https://localhost:8080/",
          "height": 423
        },
        "id": "3JlrpRg6m3rV",
        "outputId": "e5d269d4-ee35-48d8-aa73-be9bf213aff1"
      },
      "execution_count": null,
      "outputs": [
        {
          "output_type": "execute_result",
          "data": {
            "text/plain": [
              "     sepal_length  sepal_width  petal_length  petal_width  species\n",
              "0             5.1          3.5           1.4          0.2      0.0\n",
              "1             4.9          3.0           1.4          0.2      0.0\n",
              "2             4.7          3.2           1.3          0.2      0.0\n",
              "3             4.6          3.1           1.5          0.2      0.0\n",
              "4             5.0          3.6           1.4          0.2      0.0\n",
              "..            ...          ...           ...          ...      ...\n",
              "145           6.7          3.0           5.2          2.3      2.0\n",
              "146           6.3          2.5           5.0          1.9      2.0\n",
              "147           6.5          3.0           5.2          2.0      2.0\n",
              "148           6.2          3.4           5.4          2.3      2.0\n",
              "149           5.9          3.0           5.1          1.8      2.0\n",
              "\n",
              "[150 rows x 5 columns]"
            ],
            "text/html": [
              "\n",
              "  <div id=\"df-bcef9663-bfe1-4de3-89c2-7ce0b03eca6c\" class=\"colab-df-container\">\n",
              "    <div>\n",
              "<style scoped>\n",
              "    .dataframe tbody tr th:only-of-type {\n",
              "        vertical-align: middle;\n",
              "    }\n",
              "\n",
              "    .dataframe tbody tr th {\n",
              "        vertical-align: top;\n",
              "    }\n",
              "\n",
              "    .dataframe thead th {\n",
              "        text-align: right;\n",
              "    }\n",
              "</style>\n",
              "<table border=\"1\" class=\"dataframe\">\n",
              "  <thead>\n",
              "    <tr style=\"text-align: right;\">\n",
              "      <th></th>\n",
              "      <th>sepal_length</th>\n",
              "      <th>sepal_width</th>\n",
              "      <th>petal_length</th>\n",
              "      <th>petal_width</th>\n",
              "      <th>species</th>\n",
              "    </tr>\n",
              "  </thead>\n",
              "  <tbody>\n",
              "    <tr>\n",
              "      <th>0</th>\n",
              "      <td>5.1</td>\n",
              "      <td>3.5</td>\n",
              "      <td>1.4</td>\n",
              "      <td>0.2</td>\n",
              "      <td>0.0</td>\n",
              "    </tr>\n",
              "    <tr>\n",
              "      <th>1</th>\n",
              "      <td>4.9</td>\n",
              "      <td>3.0</td>\n",
              "      <td>1.4</td>\n",
              "      <td>0.2</td>\n",
              "      <td>0.0</td>\n",
              "    </tr>\n",
              "    <tr>\n",
              "      <th>2</th>\n",
              "      <td>4.7</td>\n",
              "      <td>3.2</td>\n",
              "      <td>1.3</td>\n",
              "      <td>0.2</td>\n",
              "      <td>0.0</td>\n",
              "    </tr>\n",
              "    <tr>\n",
              "      <th>3</th>\n",
              "      <td>4.6</td>\n",
              "      <td>3.1</td>\n",
              "      <td>1.5</td>\n",
              "      <td>0.2</td>\n",
              "      <td>0.0</td>\n",
              "    </tr>\n",
              "    <tr>\n",
              "      <th>4</th>\n",
              "      <td>5.0</td>\n",
              "      <td>3.6</td>\n",
              "      <td>1.4</td>\n",
              "      <td>0.2</td>\n",
              "      <td>0.0</td>\n",
              "    </tr>\n",
              "    <tr>\n",
              "      <th>...</th>\n",
              "      <td>...</td>\n",
              "      <td>...</td>\n",
              "      <td>...</td>\n",
              "      <td>...</td>\n",
              "      <td>...</td>\n",
              "    </tr>\n",
              "    <tr>\n",
              "      <th>145</th>\n",
              "      <td>6.7</td>\n",
              "      <td>3.0</td>\n",
              "      <td>5.2</td>\n",
              "      <td>2.3</td>\n",
              "      <td>2.0</td>\n",
              "    </tr>\n",
              "    <tr>\n",
              "      <th>146</th>\n",
              "      <td>6.3</td>\n",
              "      <td>2.5</td>\n",
              "      <td>5.0</td>\n",
              "      <td>1.9</td>\n",
              "      <td>2.0</td>\n",
              "    </tr>\n",
              "    <tr>\n",
              "      <th>147</th>\n",
              "      <td>6.5</td>\n",
              "      <td>3.0</td>\n",
              "      <td>5.2</td>\n",
              "      <td>2.0</td>\n",
              "      <td>2.0</td>\n",
              "    </tr>\n",
              "    <tr>\n",
              "      <th>148</th>\n",
              "      <td>6.2</td>\n",
              "      <td>3.4</td>\n",
              "      <td>5.4</td>\n",
              "      <td>2.3</td>\n",
              "      <td>2.0</td>\n",
              "    </tr>\n",
              "    <tr>\n",
              "      <th>149</th>\n",
              "      <td>5.9</td>\n",
              "      <td>3.0</td>\n",
              "      <td>5.1</td>\n",
              "      <td>1.8</td>\n",
              "      <td>2.0</td>\n",
              "    </tr>\n",
              "  </tbody>\n",
              "</table>\n",
              "<p>150 rows × 5 columns</p>\n",
              "</div>\n",
              "    <div class=\"colab-df-buttons\">\n",
              "\n",
              "  <div class=\"colab-df-container\">\n",
              "    <button class=\"colab-df-convert\" onclick=\"convertToInteractive('df-bcef9663-bfe1-4de3-89c2-7ce0b03eca6c')\"\n",
              "            title=\"Convert this dataframe to an interactive table.\"\n",
              "            style=\"display:none;\">\n",
              "\n",
              "  <svg xmlns=\"http://www.w3.org/2000/svg\" height=\"24px\" viewBox=\"0 -960 960 960\">\n",
              "    <path d=\"M120-120v-720h720v720H120Zm60-500h600v-160H180v160Zm220 220h160v-160H400v160Zm0 220h160v-160H400v160ZM180-400h160v-160H180v160Zm440 0h160v-160H620v160ZM180-180h160v-160H180v160Zm440 0h160v-160H620v160Z\"/>\n",
              "  </svg>\n",
              "    </button>\n",
              "\n",
              "  <style>\n",
              "    .colab-df-container {\n",
              "      display:flex;\n",
              "      gap: 12px;\n",
              "    }\n",
              "\n",
              "    .colab-df-convert {\n",
              "      background-color: #E8F0FE;\n",
              "      border: none;\n",
              "      border-radius: 50%;\n",
              "      cursor: pointer;\n",
              "      display: none;\n",
              "      fill: #1967D2;\n",
              "      height: 32px;\n",
              "      padding: 0 0 0 0;\n",
              "      width: 32px;\n",
              "    }\n",
              "\n",
              "    .colab-df-convert:hover {\n",
              "      background-color: #E2EBFA;\n",
              "      box-shadow: 0px 1px 2px rgba(60, 64, 67, 0.3), 0px 1px 3px 1px rgba(60, 64, 67, 0.15);\n",
              "      fill: #174EA6;\n",
              "    }\n",
              "\n",
              "    .colab-df-buttons div {\n",
              "      margin-bottom: 4px;\n",
              "    }\n",
              "\n",
              "    [theme=dark] .colab-df-convert {\n",
              "      background-color: #3B4455;\n",
              "      fill: #D2E3FC;\n",
              "    }\n",
              "\n",
              "    [theme=dark] .colab-df-convert:hover {\n",
              "      background-color: #434B5C;\n",
              "      box-shadow: 0px 1px 3px 1px rgba(0, 0, 0, 0.15);\n",
              "      filter: drop-shadow(0px 1px 2px rgba(0, 0, 0, 0.3));\n",
              "      fill: #FFFFFF;\n",
              "    }\n",
              "  </style>\n",
              "\n",
              "    <script>\n",
              "      const buttonEl =\n",
              "        document.querySelector('#df-bcef9663-bfe1-4de3-89c2-7ce0b03eca6c button.colab-df-convert');\n",
              "      buttonEl.style.display =\n",
              "        google.colab.kernel.accessAllowed ? 'block' : 'none';\n",
              "\n",
              "      async function convertToInteractive(key) {\n",
              "        const element = document.querySelector('#df-bcef9663-bfe1-4de3-89c2-7ce0b03eca6c');\n",
              "        const dataTable =\n",
              "          await google.colab.kernel.invokeFunction('convertToInteractive',\n",
              "                                                    [key], {});\n",
              "        if (!dataTable) return;\n",
              "\n",
              "        const docLinkHtml = 'Like what you see? Visit the ' +\n",
              "          '<a target=\"_blank\" href=https://colab.research.google.com/notebooks/data_table.ipynb>data table notebook</a>'\n",
              "          + ' to learn more about interactive tables.';\n",
              "        element.innerHTML = '';\n",
              "        dataTable['output_type'] = 'display_data';\n",
              "        await google.colab.output.renderOutput(dataTable, element);\n",
              "        const docLink = document.createElement('div');\n",
              "        docLink.innerHTML = docLinkHtml;\n",
              "        element.appendChild(docLink);\n",
              "      }\n",
              "    </script>\n",
              "  </div>\n",
              "\n",
              "\n",
              "<div id=\"df-b15a8e4a-7cac-405f-885b-d46bc092f9d8\">\n",
              "  <button class=\"colab-df-quickchart\" onclick=\"quickchart('df-b15a8e4a-7cac-405f-885b-d46bc092f9d8')\"\n",
              "            title=\"Suggest charts\"\n",
              "            style=\"display:none;\">\n",
              "\n",
              "<svg xmlns=\"http://www.w3.org/2000/svg\" height=\"24px\"viewBox=\"0 0 24 24\"\n",
              "     width=\"24px\">\n",
              "    <g>\n",
              "        <path d=\"M19 3H5c-1.1 0-2 .9-2 2v14c0 1.1.9 2 2 2h14c1.1 0 2-.9 2-2V5c0-1.1-.9-2-2-2zM9 17H7v-7h2v7zm4 0h-2V7h2v10zm4 0h-2v-4h2v4z\"/>\n",
              "    </g>\n",
              "</svg>\n",
              "  </button>\n",
              "\n",
              "<style>\n",
              "  .colab-df-quickchart {\n",
              "      --bg-color: #E8F0FE;\n",
              "      --fill-color: #1967D2;\n",
              "      --hover-bg-color: #E2EBFA;\n",
              "      --hover-fill-color: #174EA6;\n",
              "      --disabled-fill-color: #AAA;\n",
              "      --disabled-bg-color: #DDD;\n",
              "  }\n",
              "\n",
              "  [theme=dark] .colab-df-quickchart {\n",
              "      --bg-color: #3B4455;\n",
              "      --fill-color: #D2E3FC;\n",
              "      --hover-bg-color: #434B5C;\n",
              "      --hover-fill-color: #FFFFFF;\n",
              "      --disabled-bg-color: #3B4455;\n",
              "      --disabled-fill-color: #666;\n",
              "  }\n",
              "\n",
              "  .colab-df-quickchart {\n",
              "    background-color: var(--bg-color);\n",
              "    border: none;\n",
              "    border-radius: 50%;\n",
              "    cursor: pointer;\n",
              "    display: none;\n",
              "    fill: var(--fill-color);\n",
              "    height: 32px;\n",
              "    padding: 0;\n",
              "    width: 32px;\n",
              "  }\n",
              "\n",
              "  .colab-df-quickchart:hover {\n",
              "    background-color: var(--hover-bg-color);\n",
              "    box-shadow: 0 1px 2px rgba(60, 64, 67, 0.3), 0 1px 3px 1px rgba(60, 64, 67, 0.15);\n",
              "    fill: var(--button-hover-fill-color);\n",
              "  }\n",
              "\n",
              "  .colab-df-quickchart-complete:disabled,\n",
              "  .colab-df-quickchart-complete:disabled:hover {\n",
              "    background-color: var(--disabled-bg-color);\n",
              "    fill: var(--disabled-fill-color);\n",
              "    box-shadow: none;\n",
              "  }\n",
              "\n",
              "  .colab-df-spinner {\n",
              "    border: 2px solid var(--fill-color);\n",
              "    border-color: transparent;\n",
              "    border-bottom-color: var(--fill-color);\n",
              "    animation:\n",
              "      spin 1s steps(1) infinite;\n",
              "  }\n",
              "\n",
              "  @keyframes spin {\n",
              "    0% {\n",
              "      border-color: transparent;\n",
              "      border-bottom-color: var(--fill-color);\n",
              "      border-left-color: var(--fill-color);\n",
              "    }\n",
              "    20% {\n",
              "      border-color: transparent;\n",
              "      border-left-color: var(--fill-color);\n",
              "      border-top-color: var(--fill-color);\n",
              "    }\n",
              "    30% {\n",
              "      border-color: transparent;\n",
              "      border-left-color: var(--fill-color);\n",
              "      border-top-color: var(--fill-color);\n",
              "      border-right-color: var(--fill-color);\n",
              "    }\n",
              "    40% {\n",
              "      border-color: transparent;\n",
              "      border-right-color: var(--fill-color);\n",
              "      border-top-color: var(--fill-color);\n",
              "    }\n",
              "    60% {\n",
              "      border-color: transparent;\n",
              "      border-right-color: var(--fill-color);\n",
              "    }\n",
              "    80% {\n",
              "      border-color: transparent;\n",
              "      border-right-color: var(--fill-color);\n",
              "      border-bottom-color: var(--fill-color);\n",
              "    }\n",
              "    90% {\n",
              "      border-color: transparent;\n",
              "      border-bottom-color: var(--fill-color);\n",
              "    }\n",
              "  }\n",
              "</style>\n",
              "\n",
              "  <script>\n",
              "    async function quickchart(key) {\n",
              "      const quickchartButtonEl =\n",
              "        document.querySelector('#' + key + ' button');\n",
              "      quickchartButtonEl.disabled = true;  // To prevent multiple clicks.\n",
              "      quickchartButtonEl.classList.add('colab-df-spinner');\n",
              "      try {\n",
              "        const charts = await google.colab.kernel.invokeFunction(\n",
              "            'suggestCharts', [key], {});\n",
              "      } catch (error) {\n",
              "        console.error('Error during call to suggestCharts:', error);\n",
              "      }\n",
              "      quickchartButtonEl.classList.remove('colab-df-spinner');\n",
              "      quickchartButtonEl.classList.add('colab-df-quickchart-complete');\n",
              "    }\n",
              "    (() => {\n",
              "      let quickchartButtonEl =\n",
              "        document.querySelector('#df-b15a8e4a-7cac-405f-885b-d46bc092f9d8 button');\n",
              "      quickchartButtonEl.style.display =\n",
              "        google.colab.kernel.accessAllowed ? 'block' : 'none';\n",
              "    })();\n",
              "  </script>\n",
              "</div>\n",
              "    </div>\n",
              "  </div>\n"
            ]
          },
          "metadata": {},
          "execution_count": 16
        }
      ]
    },
    {
      "cell_type": "code",
      "source": [
        "# train test split\n",
        "X = my_df.drop('species',axis=1).values\n",
        "y = my_df['species'].values"
      ],
      "metadata": {
        "id": "WDJetTxwnA8r"
      },
      "execution_count": null,
      "outputs": []
    },
    {
      "cell_type": "code",
      "source": [
        "from sklearn.model_selection import train_test_split\n",
        "X_train, X_test ,y_train , y_test = train_test_split(X,y,test_size=0.2, random_state=41)"
      ],
      "metadata": {
        "id": "BIp6V224nT8r"
      },
      "execution_count": null,
      "outputs": []
    },
    {
      "cell_type": "code",
      "source": [
        "X_train = torch.FloatTensor(X_train)\n",
        "X_test = torch.FloatTensor(X_test)\n"
      ],
      "metadata": {
        "id": "yAJhF3IInrle"
      },
      "execution_count": null,
      "outputs": []
    },
    {
      "cell_type": "code",
      "source": [
        "y_train = torch.LongTensor(y_train)\n",
        "y_test = torch.LongTensor(y_test)"
      ],
      "metadata": {
        "id": "9wsmdKKjoEYD"
      },
      "execution_count": null,
      "outputs": []
    },
    {
      "cell_type": "code",
      "source": [
        "# set the criterion of model to measure the error of how far off the predictions are\n",
        "criterion = nn.CrossEntropyLoss()\n",
        "#Choose an optimizer , in order to learn ,and learning rate lr (if error doesn't go down after a bunch of iterations (epochs), lower the lr)\n",
        "optimizer = torch.optim.Adam(model.parameters(), lr = 0.01)\n",
        "# model.parametres are fc1 , fc2 and output\n"
      ],
      "metadata": {
        "id": "m6ekoJyLoEQC"
      },
      "execution_count": null,
      "outputs": []
    },
    {
      "cell_type": "code",
      "source": [
        "model.parameters"
      ],
      "metadata": {
        "colab": {
          "base_uri": "https://localhost:8080/"
        },
        "id": "7OdMWeWtpd70",
        "outputId": "ad43166c-fd94-489a-f21b-1a23388792a3"
      },
      "execution_count": null,
      "outputs": [
        {
          "output_type": "execute_result",
          "data": {
            "text/plain": [
              "<bound method Module.parameters of Model(\n",
              "  (fc1): Linear(in_features=4, out_features=8, bias=True)\n",
              "  (fc2): Linear(in_features=8, out_features=9, bias=True)\n",
              "  (out): Linear(in_features=9, out_features=3, bias=True)\n",
              ")>"
            ]
          },
          "metadata": {},
          "execution_count": 22
        }
      ]
    },
    {
      "cell_type": "code",
      "source": [
        "#train model\n",
        "# Epoch : one run thru the all the training data in our network\n",
        "epochs = 100\n",
        "losses = [] #see the evvolution of loss\n",
        "\n",
        "for i in range((epochs)):\n",
        "  # Go forward and get a prediction\n",
        "  y_pred = model.forward(X_train)\n",
        "  #measure loss\n",
        "  loss = criterion(y_pred, y_train)\n",
        "  losses.append(loss) #.detach().numpy)\n",
        "\n",
        "  #print every 10 epoch\n",
        "  if i%10 ==0:\n",
        "    print(f'Epoch {i} and loss {loss}')\n",
        "\n",
        "  # Do some Backpropagation to fine-tune the weights\n",
        "  optimizer.zero_grad()   # Zero the gradients to prevent accumulation\n",
        "  loss.backward()        # Perform backpropagation to compute gradients\n",
        "  optimizer.step()        # Update the weights using the computed gradients\n",
        "\n",
        "\n",
        "\n"
      ],
      "metadata": {
        "colab": {
          "base_uri": "https://localhost:8080/"
        },
        "id": "ysXs0VuspoFH",
        "outputId": "58cbc18b-9bbd-488c-97b1-69b88ccb8e9d"
      },
      "execution_count": null,
      "outputs": [
        {
          "output_type": "stream",
          "name": "stdout",
          "text": [
            "Epoch 0 and loss 1.1251550912857056\n",
            "Epoch 10 and loss 1.0096259117126465\n",
            "Epoch 20 and loss 0.8157405853271484\n",
            "Epoch 30 and loss 0.585706353187561\n",
            "Epoch 40 and loss 0.3999636471271515\n",
            "Epoch 50 and loss 0.26768800616264343\n",
            "Epoch 60 and loss 0.17942361533641815\n",
            "Epoch 70 and loss 0.12151690572500229\n",
            "Epoch 80 and loss 0.0860118493437767\n",
            "Epoch 90 and loss 0.06520850956439972\n"
          ]
        }
      ]
    },
    {
      "cell_type": "markdown",
      "source": [
        "1. **`optimizer.zero_grad()`:** This line is used to zero out the gradients of the parameters before the backward pass. Gradients represent the slope of the loss function with respect to the model parameters. In PyTorch, gradients are accumulated by default on subsequent backward passes, so it's essential to zero them before computing gradients in the current iteration. This prevents the gradients from being accumulated across multiple iterations.\n",
        "\n",
        "2. **`loss.backward()`:** This line performs backpropagation through the computational graph to compute gradients of the loss with respect to the model parameters. Backpropagation is a process used to calculate the gradient of the loss function with respect to each parameter in the neural network. It uses the chain rule of calculus to propagate the error backward through the network.\n",
        "\n",
        "3. **`optimizer.step()`:** This line updates the model parameters (weights and biases) using the gradients computed in the backward pass. The optimizer is an optimization algorithm (e.g., stochastic gradient descent, Adam, etc.) responsible for updating the model parameters to minimize the loss. The `step()` function applies the computed gradients to the parameters, adjusting them in the direction that reduces the loss.\n"
      ],
      "metadata": {
        "id": "rjt8ULNFK8Zj"
      }
    },
    {
      "cell_type": "code",
      "source": [
        "[i.item() for i in losses]"
      ],
      "metadata": {
        "colab": {
          "base_uri": "https://localhost:8080/"
        },
        "id": "dt130cB3sGIA",
        "outputId": "c6a68de4-a4d7-44cb-d8af-074acb217009"
      },
      "execution_count": null,
      "outputs": [
        {
          "output_type": "execute_result",
          "data": {
            "text/plain": [
              "[1.1251550912857056,\n",
              " 1.1095242500305176,\n",
              " 1.0960756540298462,\n",
              " 1.0845398902893066,\n",
              " 1.073915719985962,\n",
              " 1.0637413263320923,\n",
              " 1.0538722276687622,\n",
              " 1.0440350770950317,\n",
              " 1.0337213277816772,\n",
              " 1.0227365493774414,\n",
              " 1.0096259117126465,\n",
              " 0.9954349398612976,\n",
              " 0.9828447103500366,\n",
              " 0.9664683938026428,\n",
              " 0.9485272169113159,\n",
              " 0.9305612444877625,\n",
              " 0.9112032651901245,\n",
              " 0.8891754150390625,\n",
              " 0.8652693629264832,\n",
              " 0.8407701253890991,\n",
              " 0.8157405853271484,\n",
              " 0.7899296283721924,\n",
              " 0.7633073925971985,\n",
              " 0.7376409769058228,\n",
              " 0.7132112383842468,\n",
              " 0.6902050375938416,\n",
              " 0.6690837740898132,\n",
              " 0.6484997272491455,\n",
              " 0.627752423286438,\n",
              " 0.6065686345100403,\n",
              " 0.585706353187561,\n",
              " 0.5654083490371704,\n",
              " 0.5454426407814026,\n",
              " 0.5255759954452515,\n",
              " 0.5060237050056458,\n",
              " 0.48700016736984253,\n",
              " 0.4685356318950653,\n",
              " 0.4503938555717468,\n",
              " 0.4329933822154999,\n",
              " 0.4162401556968689,\n",
              " 0.3999636471271515,\n",
              " 0.38433876633644104,\n",
              " 0.36935704946517944,\n",
              " 0.3548978567123413,\n",
              " 0.34101882576942444,\n",
              " 0.32765448093414307,\n",
              " 0.3147183954715729,\n",
              " 0.30236876010894775,\n",
              " 0.2903994023799896,\n",
              " 0.27880606055259705,\n",
              " 0.26768800616264343,\n",
              " 0.2568717300891876,\n",
              " 0.24640172719955444,\n",
              " 0.23634830117225647,\n",
              " 0.22682783007621765,\n",
              " 0.21810868382453918,\n",
              " 0.2097075879573822,\n",
              " 0.20173297822475433,\n",
              " 0.1940319687128067,\n",
              " 0.18659552931785583,\n",
              " 0.17942361533641815,\n",
              " 0.17248447239398956,\n",
              " 0.1657986044883728,\n",
              " 0.15937189757823944,\n",
              " 0.1532224863767624,\n",
              " 0.1473274677991867,\n",
              " 0.14168007671833038,\n",
              " 0.13629387319087982,\n",
              " 0.13111737370491028,\n",
              " 0.12621845304965973,\n",
              " 0.12151690572500229,\n",
              " 0.11706176400184631,\n",
              " 0.1128450259566307,\n",
              " 0.10882937908172607,\n",
              " 0.10502595454454422,\n",
              " 0.10142137110233307,\n",
              " 0.09799394756555557,\n",
              " 0.09475617110729218,\n",
              " 0.09168296307325363,\n",
              " 0.08876660466194153,\n",
              " 0.0860118493437767,\n",
              " 0.08339236676692963,\n",
              " 0.08091451227664948,\n",
              " 0.07856667786836624,\n",
              " 0.07633890211582184,\n",
              " 0.07423163950443268,\n",
              " 0.072228342294693,\n",
              " 0.07033227384090424,\n",
              " 0.0685340166091919,\n",
              " 0.06682577729225159,\n",
              " 0.06520850956439972,\n",
              " 0.06367207318544388,\n",
              " 0.06222071126103401,\n",
              " 0.06083771958947182,\n",
              " 0.05952363461256027,\n",
              " 0.05827471986413002,\n",
              " 0.0570850744843483,\n",
              " 0.05595705658197403,\n",
              " 0.05487606301903725,\n",
              " 0.0538492351770401]"
            ]
          },
          "metadata": {},
          "execution_count": 24
        }
      ]
    },
    {
      "cell_type": "code",
      "source": [
        "range(epochs)"
      ],
      "metadata": {
        "colab": {
          "base_uri": "https://localhost:8080/"
        },
        "id": "OPPkeBm0sB47",
        "outputId": "42c515dc-1b85-497e-e84b-e69babdc1917"
      },
      "execution_count": null,
      "outputs": [
        {
          "output_type": "execute_result",
          "data": {
            "text/plain": [
              "range(0, 100)"
            ]
          },
          "metadata": {},
          "execution_count": 25
        }
      ]
    },
    {
      "cell_type": "code",
      "source": [
        "plt.plot(range(epochs), [i.item() for i in losses])\n",
        "plt.ylabel(\"loss/error\")\n",
        "plt.xlabel(\"Epoch\")"
      ],
      "metadata": {
        "colab": {
          "base_uri": "https://localhost:8080/",
          "height": 466
        },
        "id": "ttk5sEZ6rhlw",
        "outputId": "be90add1-d0b4-4fc3-9627-cf39e3de7d9e"
      },
      "execution_count": null,
      "outputs": [
        {
          "output_type": "execute_result",
          "data": {
            "text/plain": [
              "Text(0.5, 0, 'Epoch')"
            ]
          },
          "metadata": {},
          "execution_count": 26
        },
        {
          "output_type": "display_data",
          "data": {
            "text/plain": [
              "<Figure size 640x480 with 1 Axes>"
            ],
            "image/png": "[encoded data removed]"
          },
          "metadata": {}
        }
      ]
    },
    {
      "cell_type": "code",
      "source": [],
      "metadata": {
        "id": "Okk90g1hLl0v"
      },
      "execution_count": null,
      "outputs": []
    },
    {
      "cell_type": "markdown",
      "source": [
        "**Evaluate model on test set**"
      ],
      "metadata": {
        "id": "MqvenIUDLY2i"
      }
    },
    {
      "cell_type": "code",
      "source": [
        "with torch.no_grad() : #turn off back propagation\n",
        "  y_eval = model.forward(X_test) # get prediction on test set\n",
        "  loss = criterion(y_eval, y_test)\n",
        "\n",
        "loss\n",
        "\n"
      ],
      "metadata": {
        "colab": {
          "base_uri": "https://localhost:8080/"
        },
        "id": "WQbTMZ23Lg6Z",
        "outputId": "750d11e2-24b3-4bbb-cf06-c6b74e506a40"
      },
      "execution_count": null,
      "outputs": [
        {
          "output_type": "execute_result",
          "data": {
            "text/plain": [
              "tensor(0.1315)"
            ]
          },
          "metadata": {},
          "execution_count": 27
        }
      ]
    },
    {
      "cell_type": "markdown",
      "source": [
        "not looking good , we have a test error of 0.1315 and a training error of 0.06520850956439972. we need to correct the model"
      ],
      "metadata": {
        "id": "X9lxued_MTP9"
      }
    },
    {
      "cell_type": "code",
      "source": [
        "correct = 0\n",
        "with torch.no_grad() :\n",
        "  for i, data in enumerate(X_test):\n",
        "    y_val = model.forward(data)\n",
        "    #will tell the type of flower the model think it is vs the actual one\n",
        "    print(f'{i+1} ) {str(y_val)} \\t {y_test[i]}')\n",
        "    # we have the highest number corresponds to the flower ( 0, 1 or 2)\n",
        "\n",
        "    # correct or not\n",
        "    if y_val.argmax().item() == y_test[i] :\n",
        "      correct+=1\n",
        "\n",
        "print(f'We got {correct} correct out of {len(y_test)} instance')"
      ],
      "metadata": {
        "colab": {
          "base_uri": "https://localhost:8080/"
        },
        "id": "zRSBDZTMMkbb",
        "outputId": "e112e562-9581-466b-865a-621392653e2a"
      },
      "execution_count": null,
      "outputs": [
        {
          "output_type": "stream",
          "name": "stdout",
          "text": [
            "1 ) tensor([-5.8760,  4.4628,  6.5124]) \t 2\n",
            "2 ) tensor([-7.5436,  4.1670,  9.7255]) \t 2\n",
            "3 ) tensor([-8.4504,  5.1271, 10.1987]) \t 2\n",
            "4 ) tensor([-4.3398,  5.6267,  2.5608]) \t 1\n",
            "5 ) tensor([-7.1825,  4.8754,  8.2992]) \t 2\n",
            "6 ) tensor([-3.3974,  5.3463,  1.2803]) \t 1\n",
            "7 ) tensor([-5.9231,  4.9822,  5.9997]) \t 2\n",
            "8 ) tensor([-4.2881,  5.7003,  2.3889]) \t 1\n",
            "9 ) tensor([-6.5356,  4.9257,  7.1260]) \t 2\n",
            "10 ) tensor([-8.0509,  4.4129, 10.3286]) \t 2\n",
            "11 ) tensor([-5.6762,  4.9500,  5.6215]) \t 2\n",
            "12 ) tensor([ 4.5662, -2.2476, -2.8911]) \t 0\n",
            "13 ) tensor([ 4.2571, -1.9967, -2.7330]) \t 0\n",
            "14 ) tensor([-2.1108,  4.0515,  0.5799]) \t 1\n",
            "15 ) tensor([ 3.4575, -1.2098, -2.3514]) \t 0\n",
            "16 ) tensor([-5.4724,  5.1165,  5.0934]) \t 2\n",
            "17 ) tensor([ 4.0557, -1.7949, -2.6492]) \t 0\n",
            "18 ) tensor([-5.8075,  4.6053,  6.2458]) \t 1\n",
            "19 ) tensor([ 4.4343, -2.1392, -2.8242]) \t 0\n",
            "20 ) tensor([ 3.4528, -1.2514, -2.3660]) \t 0\n",
            "21 ) tensor([-2.6189,  4.5619,  0.8574]) \t 1\n",
            "22 ) tensor([-7.7412,  4.7377,  9.4199]) \t 2\n",
            "23 ) tensor([ 3.5744, -1.3221, -2.4135]) \t 0\n",
            "24 ) tensor([ 4.5365, -2.2383, -2.8684]) \t 0\n",
            "25 ) tensor([-2.6579,  4.6177,  0.8823]) \t 1\n",
            "26 ) tensor([-3.2865,  5.2229,  1.2164]) \t 1\n",
            "27 ) tensor([-4.6514,  5.7776,  2.9273]) \t 1\n",
            "28 ) tensor([-2.9464,  4.8892,  1.0379]) \t 1\n",
            "29 ) tensor([ 4.5847, -2.2687, -2.8974]) \t 0\n",
            "30 ) tensor([-4.5784,  5.4554,  3.1660]) \t 1\n",
            "We got 28 correct out of 30 instance\n"
          ]
        }
      ]
    },
    {
      "cell_type": "markdown",
      "source": [
        "if we change the random state we can have different results , maybe better . 28 out of 30 is not that bad after all ."
      ],
      "metadata": {
        "id": "XXN4zb-yOREM"
      }
    },
    {
      "cell_type": "markdown",
      "source": [
        "**ADDING NEW DATA** $ $\n",
        "\n",
        "... A new flower for example\n"
      ],
      "metadata": {
        "id": "aWPUKeEYPqra"
      }
    },
    {
      "cell_type": "code",
      "source": [
        "new_iris = torch.tensor([4.7, 3.2 , 1.3 , 0.2])"
      ],
      "metadata": {
        "id": "wWywRazCPxG7"
      },
      "execution_count": null,
      "outputs": []
    },
    {
      "cell_type": "code",
      "source": [
        "with torch.no_grad() :\n",
        "  print(model.forward(new_iris))"
      ],
      "metadata": {
        "colab": {
          "base_uri": "https://localhost:8080/"
        },
        "id": "lkc9KhLIQKFO",
        "outputId": "f4d82e18-20ae-4ba7-b92c-3ef5f7b50190"
      },
      "execution_count": null,
      "outputs": [
        {
          "output_type": "stream",
          "name": "stdout",
          "text": [
            "tensor([ 4.5365, -2.2383, -2.8684])\n"
          ]
        }
      ]
    },
    {
      "cell_type": "markdown",
      "source": [
        "**Save and load model**"
      ],
      "metadata": {
        "id": "A5r0_I9gDVMR"
      }
    },
    {
      "cell_type": "code",
      "source": [
        "torch.save(model.state_dict(),\"my_iris_model.pt\")"
      ],
      "metadata": {
        "id": "ffTKOXCCQJ-F"
      },
      "execution_count": null,
      "outputs": []
    },
    {
      "cell_type": "markdown",
      "source": [
        "load the saved model"
      ],
      "metadata": {
        "id": "3qaVECmSD6PC"
      }
    },
    {
      "cell_type": "code",
      "source": [
        "new_model = Model()\n",
        "new_model.load_state_dict(torch.load(\"my_iris_model.pt\"))"
      ],
      "metadata": {
        "colab": {
          "base_uri": "https://localhost:8080/"
        },
        "id": "cFwTXYbpD2j2",
        "outputId": "880b6994-4cac-4445-e36b-70be400b74f2"
      },
      "execution_count": null,
      "outputs": [
        {
          "output_type": "execute_result",
          "data": {
            "text/plain": [
              "<All keys matched successfully>"
            ]
          },
          "metadata": {},
          "execution_count": 32
        }
      ]
    },
    {
      "cell_type": "code",
      "source": [
        "new_model.eval()"
      ],
      "metadata": {
        "colab": {
          "base_uri": "https://localhost:8080/"
        },
        "id": "F-whrgQJETIE",
        "outputId": "91e9a3eb-a504-4004-f187-990c0f2babda"
      },
      "execution_count": null,
      "outputs": [
        {
          "output_type": "execute_result",
          "data": {
            "text/plain": [
              "Model(\n",
              "  (fc1): Linear(in_features=4, out_features=8, bias=True)\n",
              "  (fc2): Linear(in_features=8, out_features=9, bias=True)\n",
              "  (out): Linear(in_features=9, out_features=3, bias=True)\n",
              ")"
            ]
          },
          "metadata": {},
          "execution_count": 33
        }
      ]
    },
    {
      "cell_type": "markdown",
      "source": [
        "**CNN**"
      ],
      "metadata": {
        "id": "1wdeO0GY59bo"
      }
    },
    {
      "cell_type": "code",
      "source": [],
      "metadata": {
        "id": "WTF4PtQIog1m"
      },
      "execution_count": null,
      "outputs": []
    }
  ]
}